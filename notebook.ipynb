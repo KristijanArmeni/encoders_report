{
 "cells": [
  {
   "cell_type": "markdown",
   "metadata": {},
   "source": [
    "# Code and Figures (Notebook)"
   ]
  },
  {
   "cell_type": "code",
   "execution_count": 2,
   "metadata": {},
   "outputs": [],
   "source": [
    "import numpy as np\n",
    "from matplotlib import pyplot as plt"
   ]
  },
  {
   "cell_type": "markdown",
   "metadata": {},
   "source": [
    "## Aligning word embeddings and TRs"
   ]
  },
  {
   "cell_type": "code",
   "execution_count": 12,
   "metadata": {},
   "outputs": [
    {
     "name": "stdout",
     "output_type": "stream",
     "text": [
      "TR indices: [0 2 4 6]\n",
      "Indices with offset: [10 12 14 16]\n",
      "Indicies with offset and midpoint: [11. 13. 15. 17.]\n"
     ]
    }
   ],
   "source": [
    "#| label: indices\n",
    "n_trs = 4\n",
    "tr_len = 2\n",
    "start_trim = 10\n",
    "\n",
    "indices = np.arange(n_trs) * tr_len\n",
    "indices_offset = indices + start_trim\n",
    "indices_offset_mid = indices_offset + tr_len / 2\n",
    "\n",
    "print(f\"TR indices: {indices}\")\n",
    "print(f\"Indices with offset: {indices_offset}\")\n",
    "print(f\"Indicies with offset and midpoint: {indices_offset_mid}\")"
   ]
  }
 ],
 "metadata": {
  "kernelspec": {
   "display_name": "core",
   "language": "python",
   "name": "python3"
  },
  "language_info": {
   "codemirror_mode": {
    "name": "ipython",
    "version": 3
   },
   "file_extension": ".py",
   "mimetype": "text/x-python",
   "name": "python",
   "nbconvert_exporter": "python",
   "pygments_lexer": "ipython3",
   "version": "3.12.4"
  }
 },
 "nbformat": 4,
 "nbformat_minor": 2
}
